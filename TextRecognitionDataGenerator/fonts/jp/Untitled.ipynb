{
 "cells": [
  {
   "cell_type": "code",
   "execution_count": 1,
   "metadata": {},
   "outputs": [],
   "source": [
    "import glob\n",
    "import pickle"
   ]
  },
  {
   "cell_type": "code",
   "execution_count": 2,
   "metadata": {},
   "outputs": [
    {
     "data": {
      "text/plain": [
       "['font_dict.pkl']"
      ]
     },
     "execution_count": 2,
     "metadata": {},
     "output_type": "execute_result"
    }
   ],
   "source": [
    "glob.glob('*.pkl')"
   ]
  },
  {
   "cell_type": "code",
   "execution_count": 5,
   "metadata": {},
   "outputs": [
    {
     "data": {
      "text/plain": [
       "['fonts/jp/AppleMyungjo.ttf',\n",
       " 'fonts/jp/AppleGothic.ttf',\n",
       " 'fonts/jp/yumin.ttf',\n",
       " 'fonts/jp/yugothib.ttf',\n",
       " 'fonts/jp/Dengb.ttf',\n",
       " 'fonts/jp/yuminl.ttf',\n",
       " 'fonts/jp/simfang.ttf',\n",
       " 'fonts/jp/simsunb.ttf',\n",
       " 'fonts/jp/msjhbd.ttc',\n",
       " 'fonts/jp/YuGothR.ttc',\n",
       " 'fonts/jp/YuGothB.ttc',\n",
       " 'fonts/jp/msyhl.ttc',\n",
       " 'fonts/jp/msjh.ttc',\n",
       " 'fonts/jp/simsun.ttc']"
      ]
     },
     "execution_count": 5,
     "metadata": {},
     "output_type": "execute_result"
    }
   ],
   "source": [
    "list(pickle.load(open('font_dict.pkl', 'rb')).keys())"
   ]
  }
 ],
 "metadata": {
  "kernelspec": {
   "display_name": "Python 3",
   "language": "python",
   "name": "python3"
  },
  "language_info": {
   "codemirror_mode": {
    "name": "ipython",
    "version": 3
   },
   "file_extension": ".py",
   "mimetype": "text/x-python",
   "name": "python",
   "nbconvert_exporter": "python",
   "pygments_lexer": "ipython3",
   "version": "3.7.3"
  }
 },
 "nbformat": 4,
 "nbformat_minor": 2
}
